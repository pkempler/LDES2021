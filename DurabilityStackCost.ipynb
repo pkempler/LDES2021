{
 "cells": [
  {
   "cell_type": "code",
   "execution_count": 1,
   "id": "d752a41c",
   "metadata": {},
   "outputs": [],
   "source": [
    "import pandas as pd\n",
    "import matplotlib.pyplot as plt\n",
    "import math\n",
    "import numpy as np"
   ]
  },
  {
   "cell_type": "markdown",
   "id": "1db3e1ed",
   "metadata": {},
   "source": [
    "### Constants"
   ]
  },
  {
   "cell_type": "code",
   "execution_count": 2,
   "id": "390329e0",
   "metadata": {},
   "outputs": [],
   "source": [
    "F = 96485 # C / mol\n",
    "ne_H2 = 2 # mol e / mol H\n",
    "m_H2 = 2 # g/mol\n",
    "g_to_kg = 1000\n",
    "G0 = 237000 # J / mol\n",
    "H0 = 285000 # J / mol\n",
    "S0 = 163 # J / mol-K\n",
    "V_to_eff = 26.8 # conversion factor for hydrogen"
   ]
  },
  {
   "cell_type": "code",
   "execution_count": 3,
   "id": "bcf0bc1c",
   "metadata": {},
   "outputs": [],
   "source": [
    "### Model assumptions = = = =\n",
    "## Comment out the variable functions\n",
    "# System function\n",
    "replace_rate = 7\n",
    "\n",
    "MINCELLV = 1.9 #V\n",
    "MINCELLJ = 1 #A/cm^2\n",
    "#CELL_COST = 0.1 #$/cm^2\n",
    "\n",
    "#Operating\n",
    "ELECTRIC = 0.02# $/kWh\n",
    "CAPACITY = 0.4\n",
    "\n",
    "#Durability\n",
    "#voltage_drift = 1E-6 # V/h\n",
    "stack_replacement = 0.15 # fraction\n",
    "\n",
    "# Finances\n",
    "IRR = 0.10 # fractional rate\n",
    "INFLATION = 0.019 # fractional rate\n"
   ]
  },
  {
   "cell_type": "markdown",
   "id": "ea8e1193",
   "metadata": {},
   "source": [
    "### Cell and Stack Design"
   ]
  },
  {
   "cell_type": "code",
   "execution_count": 4,
   "id": "39f4f82f",
   "metadata": {},
   "outputs": [],
   "source": [
    "## Balance of plant\n",
    "# Reference: https://www.nrel.gov/hydrogen/assets/docs/current-central-pem-electrolysis-v3-2018.xlsm\n",
    "\n",
    "## Stack model\n",
    "hydrogen_prod = 50000/24 #kg/h ... 50 tonnes per day divided by 24 hours\n",
    "max_year = 20\n",
    "\n",
    "# def bop_model(min_cell_voltage=MINCELLV,cell_J=MINCELLJ,cell_cost=0.2):\n",
    "#     ## Cell model defaults\n",
    "#     #====Secondary input====\n",
    "#     bop_electrical = 5 #kWh/kg\n",
    "#     min_power = min_cell_voltage * cell_J * total_cell_area / 1000 # kW\n",
    "#     #====Model input\n",
    "#     stack_cost = total_cell_area * cell_cost\n",
    "#     #====\n",
    "#     power_specific_cost = stack_cost / min_power\n",
    "    \n",
    "# #     print()\n",
    "# #     print(\"Cell efficiency {0:.1f} kWh/kg\".format(min_cell_voltage*V_to_eff))\n",
    "# #     print(\"System efficiency {0:.1f} kWh/kg\".format(min_cell_voltage*V_to_eff+bop_electrical))\n",
    "# #     print(\"Power specific cost ${0:.2f}/kW\".format(power_specific_cost))\n",
    "    \n",
    "#     return stack_cost, total_cell_area"
   ]
  },
  {
   "cell_type": "markdown",
   "id": "261e11ec",
   "metadata": {},
   "source": [
    "### Cash flow set up"
   ]
  },
  {
   "cell_type": "code",
   "execution_count": 5,
   "id": "4d38190b",
   "metadata": {},
   "outputs": [],
   "source": [
    "def system_model(stack_cost, voltage_drift, min_cell_voltage=MINCELLV, cell_J=MINCELLJ, replace_rate=replace_rate, SHOWCOSTS=False):\n",
    "    #Capital costs\n",
    "    #====Secondary input====\n",
    "    bop_electrical = 5 #kWh/kg\n",
    "    elec_bop_cost = 82 #$/kW\n",
    "    mech_bop_cost = 76 #$/(kg/day)\n",
    "    \n",
    "    cell_prod = cell_J / (ne_H2*F) * (3600 / g_to_kg * m_H2) #kg/h/cm^2\n",
    "    total_cell_area = hydrogen_prod/cell_prod # cm^2\n",
    "\n",
    "    maximum_power = (min_cell_voltage + voltage_drift*8760*stack_replacement) * cell_J * total_cell_area / 1000 # kW\n",
    "    #====Model inputs\n",
    "    system_cost = stack_cost*maximum_power + elec_bop_cost*maximum_power + mech_bop_cost*hydrogen_prod*24\n",
    "    #====\n",
    "    if SHOWCOSTS:\n",
    "        print()\n",
    "        print(\"Total system cost is ${0:.2f} million\".format(system_cost/1e6))\n",
    "        print(\"Stack:  ${0:.2f} million\".format(stack_cost*maximum_power/1e6))\n",
    "        print(\"Electrical: ${0:.2f} million\".format(elec_bop_cost*maximum_power/1e6))\n",
    "        print(\"Mechanical: ${0:.2f} million\".format(mech_bop_cost*hydrogen_prod*24/1e6))\n",
    "        \n",
    "    return system_cost"
   ]
  },
  {
   "cell_type": "code",
   "execution_count": 6,
   "id": "ce6dfc53",
   "metadata": {},
   "outputs": [
    {
     "name": "stdout",
     "output_type": "stream",
     "text": [
      "\n",
      "Total system cost is $33.76 million\n",
      "Stack:  $21.25 million\n",
      "Electrical: $8.71 million\n",
      "Mechanical: $3.80 million\n"
     ]
    },
    {
     "data": {
      "text/plain": [
       "33758430.35159723"
      ]
     },
     "execution_count": 6,
     "metadata": {},
     "output_type": "execute_result"
    }
   ],
   "source": [
    "system_model(200, 2e-6, SHOWCOSTS=True)"
   ]
  },
  {
   "cell_type": "markdown",
   "id": "9167ba97",
   "metadata": {},
   "source": [
    "### Calculate LCOH"
   ]
  },
  {
   "cell_type": "code",
   "execution_count": 7,
   "id": "3ac404a9",
   "metadata": {},
   "outputs": [],
   "source": [
    "def NPV_calc(h2_price, voltage_drift, system_cost, stack_cost, min_cell_V=MINCELLV, show_results=False):\n",
    "    \n",
    "   #Scheduled cash flow\n",
    "    CashFlow = pd.DataFrame({'Years':[],'Stack Life':[],'Inflation Year':[],\n",
    "                            'Stack Eff':[], 'Hydrogen Sales':[],'Replacement Costs':[],'Operating Costs':[],\n",
    "                            'Net Cash Flow':[],'Discounted Flow':[]})\n",
    "\n",
    "    ## Initialize variables\n",
    "    year = [1]\n",
    "    stacklife = [0]\n",
    "    inflationyear = [1]\n",
    "    stackeff = [0]\n",
    "    hydrogensales = [0]\n",
    "    replacement_costs = [0]\n",
    "    operating_costs = [0]\n",
    "    net_cash = [-system_cost]\n",
    "    discounted_cash = [net_cash[-1]/(1+IRR)**year[-1]]\n",
    "\n",
    "    for x in range(2,max_year+2):\n",
    "        year.append(x)\n",
    "        inflationyear.append((1+INFLATION)**x)\n",
    "\n",
    "        #Hydrogen sales\n",
    "        hydrogensales.append(h2_price*hydrogen_prod*8760*CAPACITY) # [$/kg] * [kg/h] * [h/year] * percent\n",
    "        hydrogensales[-1] = hydrogensales[-1]*inflationyear[-1]\n",
    "\n",
    "        #Stacklife counting\n",
    "        if year[-1] == (max_year+1): # Don't replace stack in the last year of life\n",
    "            stacklife.append(stacklife[-1]+1)           \n",
    "        elif stacklife[-1] < replace_rate:\n",
    "            stacklife.append(stacklife[-1]+1)\n",
    "        else:\n",
    "            stacklife.append(1)\n",
    "\n",
    "        #Maintenance cost are 0.5% system cost per year + stack replacement\n",
    "        replacement_costs.append(stack_replacement*system_cost*(stacklife[-1]==replace_rate) + 0.005*system_cost)\n",
    "        replacement_costs[-1] = replacement_costs[-1]*inflationyear[-1]\n",
    "\n",
    "        #Stack efficiency is the average of the beginning and end of year efficiency\n",
    "        try:\n",
    "            stackeff.append(V_to_eff*(min_cell_voltage + voltage_drift*8760*CAPACITY*(stacklife[-1]+stacklife[-1]-1) / 2) )\n",
    "        except: \n",
    "            stackeff.append(V_to_eff*(MINCELLV + voltage_drift*8760*CAPACITY*(stacklife[-1]+stacklife[-1]-1) / 2) )\n",
    "            \n",
    "        #Operating costs are assumed to be dominated by electricity prices\n",
    "        operating_costs.append(ELECTRIC*stackeff[-1]*hydrogen_prod*8760*CAPACITY) # [$/kWh] * [kWh/kg] * [kg/h] * [h/year] * percent\n",
    "        operating_costs[-1] = operating_costs[-1]*inflationyear[-1]\n",
    "\n",
    "        #Net cash flow = Sales - replacement - operating costs\n",
    "        net_cash.append(hydrogensales[-1] - operating_costs[-1] - replacement_costs[-1])\n",
    "\n",
    "        #Discounted cash flow = net cash flow / (1+IRR)^year\n",
    "        discounted_cash.append(net_cash[-1]/(1+IRR)**year[-1])\n",
    "\n",
    "    CashFlow['Years'] = year\n",
    "    CashFlow['Stack Life'] = stacklife\n",
    "    CashFlow['Inflation Year'] = inflationyear\n",
    "    CashFlow['Stack Eff'] = stackeff\n",
    "    CashFlow['Hydrogen Sales'] = hydrogensales\n",
    "    CashFlow['Replacement Costs'] = replacement_costs\n",
    "    CashFlow['Operating Costs'] = operating_costs\n",
    "    CashFlow['Net Cash Flow'] = net_cash\n",
    "    CashFlow['Discounted Flow'] = discounted_cash\n",
    "    \n",
    "    if show_results:\n",
    "        return CashFlow\n",
    "    else:\n",
    "        return sum(CashFlow['Discounted Flow'])\n"
   ]
  },
  {
   "cell_type": "code",
   "execution_count": 8,
   "id": "c8b817b0",
   "metadata": {},
   "outputs": [],
   "source": [
    "def LCOH(durability,stack_cost):\n",
    "    # BOP function\n",
    "    # System function\n",
    "    system_cost = system_model(stack_cost=stack_cost, voltage_drift=durability)\n",
    "\n",
    "    low_price = 0.10\n",
    "    high_price = 20\n",
    "    low_val = NPV_calc(low_price,  voltage_drift=durability,system_cost=system_cost, stack_cost=stack_cost)\n",
    "    high_val = NPV_calc(high_price,  voltage_drift=durability,system_cost=system_cost, stack_cost=stack_cost);\n",
    "    \n",
    "    slope = (high_price - low_price)/(high_val - low_val)\n",
    "    \n",
    "#     print()\n",
    "#     print(\" = = = = = = = = = \")\n",
    "#     print(\"Electricty price = ${0:0.2f}/kWh\".format(ELECTRIC))\n",
    "#     print(\"Capacity factor = {0:0.2f}/kWh\".format(CAPACITY))\n",
    "#     print(\"Stack Voltage = ${0:0.2f}/kWh\".format(min_cell_voltage))\n",
    "#     print(\"Levelized cost of hydrogen ($/kg) is... \")\n",
    "    \n",
    "    return high_price - high_val*slope"
   ]
  },
  {
   "cell_type": "markdown",
   "id": "3f99f365",
   "metadata": {},
   "source": [
    "### Iterate across LCOH vs model assumptions\n",
    "\n",
    "Iteratively set up model + build NPV function before running LCOH function to calculate LCOH"
   ]
  },
  {
   "cell_type": "code",
   "execution_count": 9,
   "id": "27add50c",
   "metadata": {},
   "outputs": [],
   "source": [
    "## Set up a mesh grid for desired variables\n",
    "Ds = np.logspace(-1,3,20)\n",
    "Stacks = np.logspace(1,3.7,20)\n",
    "XX,YY = np.meshgrid(Ds,Stacks) # syntax is columns, rows\n",
    "rs, cs = np.shape(XX)\n",
    "Z = np.zeros((rs,cs))\n",
    "\n",
    "for row in range(0,len(Stacks)):\n",
    "    for col in range(0,len(Ds)):\n",
    "            durability = XX[row,col]*1e-6\n",
    "            stack_cost = YY[row,col]\n",
    "            Z[row,col] = LCOH(durability=durability,stack_cost=stack_cost)"
   ]
  },
  {
   "cell_type": "code",
   "execution_count": 22,
   "id": "a9565ffa",
   "metadata": {},
   "outputs": [
    {
     "data": {
      "image/png": "[encoded data removed]",
      "text/plain": [
       "<Figure size 500x500 with 1 Axes>"
      ]
     },
     "metadata": {
      "needs_background": "light"
     },
     "output_type": "display_data"
    }
   ],
   "source": [
    "fig, ax = plt.subplots(figsize=(2.5,2.5))\n",
    "manual_lines = [1.3, 1.5, 2, 3.5, 7, 10]\n",
    "CS = ax.contour(XX, YY, Z, manual_lines, cmap='plasma', vmin=0, vmax=10)\n",
    "\n",
    "ax.plot(1, 526,'*',color='lightblue') # Base case\n",
    "ax.text(0.3,650,'Base case',color='lightblue',rotation=0) # Base case\n",
    "\n",
    "ax.set_yscale('log')\n",
    "ax.set_xscale('log')\n",
    "ax.set_xlabel('Durability [µV/h]')\n",
    "#ax.set_ylabel('Cell Cost [\\$/$cm^2$]')\n",
    "ax.clabel(CS, inline=True, fontsize=9, colors='k', fmt='$ %1.2f')\n",
    "# ax.plot(2,1,'b*')\n",
    "# ax.text(0.3,0.8,'PEM',color='b')\n",
    "ax.tick_params(right=True, which='both')\n",
    "plt.gcf().set_dpi(200)"
   ]
  },
  {
   "cell_type": "code",
   "execution_count": null,
   "id": "c868c49f",
   "metadata": {},
   "outputs": [],
   "source": []
  },
  {
   "cell_type": "code",
   "execution_count": 11,
   "id": "e5caea1c",
   "metadata": {},
   "outputs": [
    {
     "data": {
      "text/plain": [
       "-802087.0617839661"
      ]
     },
     "execution_count": 11,
     "metadata": {},
     "output_type": "execute_result"
    },
    {
     "data": {
      "image/png": "[encoded data removed]",
      "text/plain": [
       "<Figure size 432x288 with 1 Axes>"
      ]
     },
     "metadata": {
      "needs_background": "light"
     },
     "output_type": "display_data"
    }
   ],
   "source": [
    "# BOP function\n",
    "stack_cost = 365\n",
    "durability = 100e-6\n",
    "# System function\n",
    "system_cost = system_model(stack_cost=stack_cost, voltage_drift=durability)\n",
    "\n",
    "CF = NPV_calc(2.1,  voltage_drift=durability,system_cost=system_cost, stack_cost=stack_cost, show_results=True)\n",
    "plt.bar(CF['Years']-1,-CF['Replacement Costs'],alpha=0.5)\n",
    "plt.bar(CF['Years']-1,CF['Hydrogen Sales'],alpha=0.5)\n",
    "plt.bar(CF['Years']-1,-CF['Operating Costs'],bottom=-CF['Replacement Costs'],alpha=0.5)\n",
    "plt.plot(CF['Years']-1,CF['Net Cash Flow'],'kx')\n",
    "plt.legend(['Net','Replacement', 'Sales', 'OpEx'])\n",
    "plt.ylim([-6e7,3e7])\n",
    "plt.xlim([-1,22])\n",
    "plt.xlabel('Model Years')\n",
    "plt.ylabel('USD ($)')\n",
    "\n",
    "sum(CF['Net Cash Flow'])"
   ]
  },
  {
   "cell_type": "code",
   "execution_count": 12,
   "id": "277ff9cc",
   "metadata": {},
   "outputs": [
    {
     "data": {
      "text/html": [
       "<div>\n",
       "<style scoped>\n",
       "    .dataframe tbody tr th:only-of-type {\n",
       "        vertical-align: middle;\n",
       "    }\n",
       "\n",
       "    .dataframe tbody tr th {\n",
       "        vertical-align: top;\n",
       "    }\n",
       "\n",
       "    .dataframe thead th {\n",
       "        text-align: right;\n",
       "    }\n",
       "</style>\n",
       "<table border=\"1\" class=\"dataframe\">\n",
       "  <thead>\n",
       "    <tr style=\"text-align: right;\">\n",
       "      <th></th>\n",
       "      <th>Years</th>\n",
       "      <th>Stack Life</th>\n",
       "      <th>Inflation Year</th>\n",
       "      <th>Stack Eff</th>\n",
       "      <th>Hydrogen Sales</th>\n",
       "      <th>Replacement Costs</th>\n",
       "      <th>Operating Costs</th>\n",
       "      <th>Net Cash Flow</th>\n",
       "      <th>Discounted Flow</th>\n",
       "    </tr>\n",
       "  </thead>\n",
       "  <tbody>\n",
       "    <tr>\n",
       "      <th>0</th>\n",
       "      <td>1</td>\n",
       "      <td>0</td>\n",
       "      <td>1.000000</td>\n",
       "      <td>0.00000</td>\n",
       "      <td>0.000000e+00</td>\n",
       "      <td>0.000000</td>\n",
       "      <td>0.000000e+00</td>\n",
       "      <td>-5.450129e+07</td>\n",
       "      <td>-4.954663e+07</td>\n",
       "    </tr>\n",
       "    <tr>\n",
       "      <th>1</th>\n",
       "      <td>2</td>\n",
       "      <td>1</td>\n",
       "      <td>1.038361</td>\n",
       "      <td>55.61536</td>\n",
       "      <td>1.591807e+07</td>\n",
       "      <td>282960.085080</td>\n",
       "      <td>8.431328e+06</td>\n",
       "      <td>7.203786e+06</td>\n",
       "      <td>5.953542e+06</td>\n",
       "    </tr>\n",
       "    <tr>\n",
       "      <th>2</th>\n",
       "      <td>3</td>\n",
       "      <td>2</td>\n",
       "      <td>1.058090</td>\n",
       "      <td>65.00608</td>\n",
       "      <td>1.622052e+07</td>\n",
       "      <td>288336.326697</td>\n",
       "      <td>1.004221e+07</td>\n",
       "      <td>5.889969e+06</td>\n",
       "      <td>4.425221e+06</td>\n",
       "    </tr>\n",
       "    <tr>\n",
       "      <th>3</th>\n",
       "      <td>4</td>\n",
       "      <td>3</td>\n",
       "      <td>1.078194</td>\n",
       "      <td>74.39680</td>\n",
       "      <td>1.652871e+07</td>\n",
       "      <td>293814.716904</td>\n",
       "      <td>1.171127e+07</td>\n",
       "      <td>4.523627e+06</td>\n",
       "      <td>3.089698e+06</td>\n",
       "    </tr>\n",
       "    <tr>\n",
       "      <th>4</th>\n",
       "      <td>5</td>\n",
       "      <td>4</td>\n",
       "      <td>1.098679</td>\n",
       "      <td>83.78752</td>\n",
       "      <td>1.684275e+07</td>\n",
       "      <td>299397.196525</td>\n",
       "      <td>1.344012e+07</td>\n",
       "      <td>3.103237e+06</td>\n",
       "      <td>1.926866e+06</td>\n",
       "    </tr>\n",
       "  </tbody>\n",
       "</table>\n",
       "</div>"
      ],
      "text/plain": [
       "   Years  Stack Life  Inflation Year  Stack Eff  Hydrogen Sales  \\\n",
       "0      1           0        1.000000    0.00000    0.000000e+00   \n",
       "1      2           1        1.038361   55.61536    1.591807e+07   \n",
       "2      3           2        1.058090   65.00608    1.622052e+07   \n",
       "3      4           3        1.078194   74.39680    1.652871e+07   \n",
       "4      5           4        1.098679   83.78752    1.684275e+07   \n",
       "\n",
       "   Replacement Costs  Operating Costs  Net Cash Flow  Discounted Flow  \n",
       "0           0.000000     0.000000e+00  -5.450129e+07    -4.954663e+07  \n",
       "1      282960.085080     8.431328e+06   7.203786e+06     5.953542e+06  \n",
       "2      288336.326697     1.004221e+07   5.889969e+06     4.425221e+06  \n",
       "3      293814.716904     1.171127e+07   4.523627e+06     3.089698e+06  \n",
       "4      299397.196525     1.344012e+07   3.103237e+06     1.926866e+06  "
      ]
     },
     "execution_count": 12,
     "metadata": {},
     "output_type": "execute_result"
    }
   ],
   "source": [
    "CF.head()"
   ]
  },
  {
   "cell_type": "code",
   "execution_count": null,
   "id": "3650e03c",
   "metadata": {},
   "outputs": [],
   "source": []
  }
 ],
 "metadata": {
  "kernelspec": {
   "display_name": "Python 3",
   "language": "python",
   "name": "python3"
  },
  "language_info": {
   "codemirror_mode": {
    "name": "ipython",
    "version": 3
   },
   "file_extension": ".py",
   "mimetype": "text/x-python",
   "name": "python",
   "nbconvert_exporter": "python",
   "pygments_lexer": "ipython3",
   "version": "3.8.2"
  }
 },
 "nbformat": 4,
 "nbformat_minor": 5
}
