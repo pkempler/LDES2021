{
 "cells": [
  {
   "cell_type": "code",
   "execution_count": 1,
   "id": "6be685c2",
   "metadata": {},
   "outputs": [],
   "source": [
    "import pandas as pd\n",
    "import matplotlib.pyplot as plt\n",
    "import math\n",
    "import numpy as np"
   ]
  },
  {
   "cell_type": "markdown",
   "id": "05f2ce56",
   "metadata": {},
   "source": [
    "### Constants"
   ]
  },
  {
   "cell_type": "code",
   "execution_count": 2,
   "id": "70bc60d1",
   "metadata": {},
   "outputs": [],
   "source": [
    "F = 96485 # C / mol\n",
    "ne_H2 = 2 # mol e / mol H\n",
    "m_H2 = 2 # g/mol\n",
    "g_to_kg = 1000\n",
    "G0 = 237000 # J / mol\n",
    "H0 = 285000 # J / mol\n",
    "S0 = 163 # J / mol-K\n",
    "V_to_eff = 26.8 # conversion factor for hydrogen at STP?"
   ]
  },
  {
   "cell_type": "code",
   "execution_count": 3,
   "id": "bc418c55",
   "metadata": {},
   "outputs": [],
   "source": [
    "### Model assumptions = = = =\n",
    "\n",
    "#Operating\n",
    "ELECTRIC = 0.10 # $/kWh\n",
    "CAPACITY = 0.2 # Shouldn't be above 0.33 per grid modeling results, and likely less..\n",
    "\n",
    "# Finances\n",
    "IRR = 0.10 # fractional rate\n",
    "INFLATION = 0.019 # fractional rate\n",
    "\n",
    "# System Durability\n",
    "replace_rate = 10 # Based on a capacity of 0.3 and a 25,0000 hour life (https://www.hydrogen.energy.gov/pdfs/review20/fc163_james_2020_o.pdf)\n",
    "stack_replacement = 0.5 # fraction\n",
    "MAXCELLV=0.75\n"
   ]
  },
  {
   "cell_type": "markdown",
   "id": "459546a0",
   "metadata": {},
   "source": [
    "### Cash flow set up"
   ]
  },
  {
   "cell_type": "code",
   "execution_count": 4,
   "id": "4824bf13",
   "metadata": {},
   "outputs": [],
   "source": [
    "## Stack model\n",
    "nameplate_capacity = 1E4  # 10,000 kW (10 MW)\n",
    "hours_stored = 1e2\n",
    "max_year = 20\n",
    "\n",
    "def system_model(fc_stack_cost, voltage_drift, SHOWCOSTS=False):\n",
    "\n",
    "    MINEFFICIENCY = MAXCELLV - voltage_drift * 8760 * CAPACITY * replace_rate\n",
    "    \n",
    "    #====Model inputs\n",
    "    balance_specific_cost = 50 # $/kW\n",
    "    ##Reference: 2021 DOE Hydrogen and Fuel Cells Program Review Presentation\n",
    "    balance_system_cost = balance_specific_cost * nameplate_capacity\n",
    "    \n",
    "    hydrogen_stored = nameplate_capacity * hours_stored / (33.4 * MINEFFICIENCY) #10,000 kW * 100 hours / (33.4 * EFFICIENCY kWh/kg)\n",
    "    storage_specific_capital = 72 # $/kg stored https://www.hydrogen.energy.gov/pdfs/review19/st001_ahluwalia_2019_o.pdf\n",
    "    #storage capital can be lower for salt-caverns, for example\n",
    "    storage_capital = storage_specific_capital * hydrogen_stored\n",
    "    \n",
    "    ## Estimated as ~4X LDV BoP cost\n",
    "    ## See report: \"Mass Production Cost Estimation of Direct H2 PEM Fuel...\n",
    "    ## ... Cell Systems for Transportation Applications: 2018 Update\"\n",
    "    \n",
    "    system_cost = fc_stack_cost*nameplate_capacity + storage_capital + balance_system_cost\n",
    "    #====\n",
    "    \n",
    "    \n",
    "    if SHOWCOSTS:\n",
    "        print()\n",
    "        print(\"Total system cost is ${0:.2f} million\".format(system_cost/1e6))\n",
    "        print(\"Stack:  ${0:.2f} million\".format(fc_stack_cost*nameplate_capacity/1e6))\n",
    "        print(\"Storage: ${0:.2f} million\".format(storage_capital/1e6))\n",
    "        print(\"Mechanical: ${0:.2f} million\".format(balance_system_cost/1e6))\n",
    "\n",
    "    return system_cost"
   ]
  },
  {
   "cell_type": "code",
   "execution_count": 5,
   "id": "15308bc6",
   "metadata": {},
   "outputs": [
    {
     "name": "stdout",
     "output_type": "stream",
     "text": [
      "\n",
      "Total system cost is $4.34 million\n",
      "Stack:  $0.75 million\n",
      "Storage: $3.09 million\n",
      "Mechanical: $0.50 million\n"
     ]
    },
    {
     "data": {
      "text/plain": [
       "4340858.887867761"
      ]
     },
     "execution_count": 5,
     "metadata": {},
     "output_type": "execute_result"
    }
   ],
   "source": [
    "system_model(75,3e-6, SHOWCOSTS=True)"
   ]
  },
  {
   "cell_type": "markdown",
   "id": "096ed49b",
   "metadata": {},
   "source": [
    "### Calculate LCOH"
   ]
  },
  {
   "cell_type": "code",
   "execution_count": 6,
   "id": "b47a425c",
   "metadata": {},
   "outputs": [],
   "source": [
    "def NPV_calc(HYDROGEN, ELECTRIC, stack_cost, voltage_drift, SHOWTABLE = False):\n",
    "    \n",
    "   #Scheduled cash flow\n",
    "    CashFlow = pd.DataFrame({'Years':[],'Stack Life':[],'Inflation Year':[],\n",
    "                            'Stack Eff':[], 'Hydrogen Sales':[],'Replacement Costs':[],'Operating Costs':[],\n",
    "                            'Net Cash Flow':[],'Discounted Flow':[]})\n",
    "    \n",
    "    system_cost=system_model(stack_cost, voltage_drift)\n",
    "\n",
    "    ## Initialize variables\n",
    "    year = [1]\n",
    "    stacklife = [0]\n",
    "    inflationyear = [1]\n",
    "    stackeff = [0]\n",
    "    hydrogensales = [0]\n",
    "    replacement_costs = [0]\n",
    "    operating_costs = [0]\n",
    "    net_cash = [-system_cost]\n",
    "    discounted_cash = [net_cash[-1]/(1+IRR)**year[-1]]\n",
    "\n",
    "    for x in range(2,max_year+2):\n",
    "        year.append(x)\n",
    "        inflationyear.append((1+INFLATION)**x)\n",
    "\n",
    "        #Hydrogen sales\n",
    "        hydrogensales.append(ELECTRIC*nameplate_capacity*8760*CAPACITY) # [$/kg] * [kg/h] * [h/year] * percent\n",
    "        hydrogensales[-1] = hydrogensales[-1]*inflationyear[-1]\n",
    "\n",
    "        #Stacklife counting\n",
    "        if stacklife[-1] < replace_rate and year[-1] != max_year: # Don't replace stack in the last year of life\n",
    "            stacklife.append(stacklife[-1]+1)\n",
    "        else:\n",
    "            stacklife.append(1)\n",
    "\n",
    "        #Maintenance cost are 0.5% system cost per year + stack replacement\n",
    "        replacement_costs.append(stack_replacement*stack_cost*(stacklife[-1]==replace_rate) + 0.005*system_cost)\n",
    "        replacement_costs[-1] = replacement_costs[-1]*inflationyear[-1]\n",
    "\n",
    "        #Stack efficiency is the average of the beginning and end of year efficiency\n",
    "        stackeff.append(V_to_eff*(MAXCELLV - voltage_drift*8760*CAPACITY*(stacklife[-1]+stacklife[-1]-1) / 2) )\n",
    "\n",
    "        #Operating costs are assumed to be dominated by electricity prices\n",
    "        operating_costs.append(HYDROGEN*nameplate_capacity*8760*CAPACITY/stackeff[-1]) # [$/kWh] * [kWh/kg] * [kg/h] * [h/year] * percent\n",
    "        operating_costs[-1] = operating_costs[-1]*inflationyear[-1]\n",
    "\n",
    "        #Net cash flow = Sales - replacement - operating costs\n",
    "        net_cash.append(hydrogensales[-1] - operating_costs[-1] - replacement_costs[-1])\n",
    "\n",
    "        #Discounted cash flow = net cash flow / (1+IRR)^year\n",
    "        discounted_cash.append(net_cash[-1]/(1+IRR)**year[-1])\n",
    "\n",
    "    CashFlow['Years'] = year\n",
    "    CashFlow['Stack Life'] = stacklife\n",
    "    CashFlow['Inflation Year'] = inflationyear\n",
    "    CashFlow['Stack Eff'] = stackeff\n",
    "    CashFlow['Hydrogen Sales'] = hydrogensales\n",
    "    CashFlow['Replacement Costs'] = replacement_costs\n",
    "    CashFlow['Operating Costs'] = operating_costs\n",
    "    CashFlow['Net Cash Flow'] = net_cash\n",
    "    CashFlow['Discounted Flow'] = discounted_cash\n",
    "    \n",
    "    if SHOWTABLE:\n",
    "        return CashFlow\n",
    "    else:\n",
    "        return sum(CashFlow['Discounted Flow'])\n"
   ]
  },
  {
   "cell_type": "code",
   "execution_count": 7,
   "id": "97b2e207",
   "metadata": {},
   "outputs": [],
   "source": [
    "cost_of_hydrogen=3\n",
    "def LCOE(voltage_drift, stack_cost):\n",
    "  \n",
    "    low_price = 0.01\n",
    "    high_price = 0.25\n",
    "    low_val = NPV_calc(HYDROGEN=cost_of_hydrogen,ELECTRIC=low_price,stack_cost=stack_cost, voltage_drift=voltage_drift)\n",
    "    high_val = NPV_calc(HYDROGEN=cost_of_hydrogen, ELECTRIC=high_price,stack_cost=stack_cost, voltage_drift=voltage_drift)\n",
    "    \n",
    "    slope = (high_price - low_price)/(high_val - low_val)\n",
    "\n",
    "    return high_price - high_val*slope"
   ]
  },
  {
   "cell_type": "markdown",
   "id": "a7a8418a",
   "metadata": {},
   "source": [
    "### Iterate across LCOH vs model assumptions\n",
    "\n",
    "Iteratively set up model + build NPV function before running LCOH function to calculate LCOH"
   ]
  },
  {
   "cell_type": "code",
   "execution_count": 8,
   "id": "fb7488ac",
   "metadata": {},
   "outputs": [],
   "source": [
    "## Set up a mesh grid for desired variables\n",
    "Ds = np.logspace(-1,1.5,25)\n",
    "Stacks = np.logspace(1,3,25)\n",
    "XX,YY = np.meshgrid(Ds,Stacks) # syntax is columns, rows\n",
    "rs, cs = np.shape(XX)\n",
    "Z = np.zeros((rs,cs))\n",
    "\n",
    "for row in range(0,len(Stacks)):\n",
    "    for col in range(0,len(Ds)):\n",
    "            D = XX[row,col]*1e-6\n",
    "            stack = YY[row,col]\n",
    "            Z[row,col] = LCOE(voltage_drift = D, stack_cost = stack)"
   ]
  },
  {
   "cell_type": "code",
   "execution_count": 9,
   "id": "a63d6936",
   "metadata": {},
   "outputs": [
    {
     "data": {
      "image/png": "[encoded data removed]",
      "text/plain": [
       "<Figure size 375x375 with 1 Axes>"
      ]
     },
     "metadata": {
      "needs_background": "light"
     },
     "output_type": "display_data"
    }
   ],
   "source": [
    "fig, ax = plt.subplots(figsize=(2.5,2.5))\n",
    "CS = ax.contour(XX, YY, Z, [0.17, 0.18, 0.19, 0.2, 0.22, 0.30], cmap='plasma', vmin=0.10, vmax=0.35)\n",
    "ax.set_xlabel('Voltage Drift [µV / h]')\n",
    "ax.set_xlim([1e-1,50])\n",
    "ax.plot(5,200,'*',color='orange')\n",
    "ax.text(0.37,185,'Base case',color='orange', rotation=-5)\n",
    "ax.set_xscale('log')\n",
    "ax.set_yscale('log')\n",
    "ax.clabel(CS, inline=True, fontsize=9, colors='k', fmt='$ %1.2f')\n",
    "plt.gcf().set_dpi(150)"
   ]
  },
  {
   "cell_type": "code",
   "execution_count": null,
   "id": "b34295f7",
   "metadata": {},
   "outputs": [],
   "source": []
  }
 ],
 "metadata": {
  "kernelspec": {
   "display_name": "Python 3",
   "language": "python",
   "name": "python3"
  },
  "language_info": {
   "codemirror_mode": {
    "name": "ipython",
    "version": 3
   },
   "file_extension": ".py",
   "mimetype": "text/x-python",
   "name": "python",
   "nbconvert_exporter": "python",
   "pygments_lexer": "ipython3",
   "version": "3.8.2"
  }
 },
 "nbformat": 4,
 "nbformat_minor": 5
}
