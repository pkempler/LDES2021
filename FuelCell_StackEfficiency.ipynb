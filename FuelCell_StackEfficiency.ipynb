{
 "cells": [
  {
   "cell_type": "code",
   "execution_count": 1,
   "id": "88efefc5",
   "metadata": {},
   "outputs": [],
   "source": [
    "import pandas as pd\n",
    "import matplotlib.pyplot as plt\n",
    "import math\n",
    "import numpy as np"
   ]
  },
  {
   "cell_type": "code",
   "execution_count": 2,
   "id": "b5b36394",
   "metadata": {},
   "outputs": [
    {
     "name": "stdout",
     "output_type": "stream",
     "text": [
      "Truck cost  1090.909090909091 ($/kW)\n",
      "Cell cost  363.6363636363636 ($/kW)\n"
     ]
    }
   ],
   "source": [
    "## Estimation of Fuel Cell System price:\n",
    "truck_cost = 3E5\n",
    "fuel_cell_cost = 1E5\n",
    "rated_power = 275\n",
    "\n",
    "truck_specific = truck_cost/rated_power\n",
    "fc_specific = fuel_cell_cost/rated_power\n",
    "\n",
    "print(\"Truck cost \",truck_specific, \"($/kW)\")\n",
    "print(\"Cell cost \",fc_specific, \"($/kW)\")"
   ]
  },
  {
   "cell_type": "markdown",
   "id": "a75ab13f",
   "metadata": {},
   "source": [
    "### Constants"
   ]
  },
  {
   "cell_type": "code",
   "execution_count": 3,
   "id": "c8dd7cd6",
   "metadata": {},
   "outputs": [],
   "source": [
    "F = 96485 # C / mol\n",
    "ne_H2 = 2 # mol e / mol H\n",
    "m_H2 = 2 # g/mol\n",
    "g_to_kg = 1000\n",
    "G0 = 237000 # J / mol\n",
    "H0 = 285000 # J / mol\n",
    "S0 = 163 # J / mol-K\n",
    "V_to_eff = 26.8 # conversion factor for hydrogen at STP?"
   ]
  },
  {
   "cell_type": "code",
   "execution_count": 4,
   "id": "2d9ac766",
   "metadata": {},
   "outputs": [],
   "source": [
    "### Model assumptions = = = =\n",
    "## Comment out the variable functions\n",
    "\n",
    "#Operating\n",
    "CAPACITY = 0.2 # Shouldn't be above 0.33 per grid modeling results, and likely less..\n",
    "\n",
    "# Finances\n",
    "IRR = 0.10 # fractional rate\n",
    "INFLATION = 0.019 # fractional rate\n",
    "\n",
    "# System Durability\n",
    "replace_rate = 10 # Based on a capacity of 0.3 and a 25,0000 hour life (https://www.hydrogen.energy.gov/pdfs/review20/fc163_james_2020_o.pdf)\n",
    "voltage_drift = 5E-6 # V/h\n",
    "stack_replacement = 0.15 # fraction\n"
   ]
  },
  {
   "cell_type": "markdown",
   "id": "a556a952",
   "metadata": {},
   "source": [
    "### Cash flow set up"
   ]
  },
  {
   "cell_type": "code",
   "execution_count": 5,
   "id": "5a14f7a0",
   "metadata": {},
   "outputs": [],
   "source": [
    "## Balance of plant\n",
    "# Reference: https://www.hydrogen.energy.gov/pdfs/review20/fc163_james_2020_o.pdf\n",
    "\n",
    "## Stack model\n",
    "nameplate_capacity = 1e4  # 10,000 kW (10 MW)\n",
    "hours_stored = 1e2\n",
    "max_year = 20\n",
    "\n",
    "def system_model(fc_stack_cost, MAXCELLV, SHOWCOSTS=False):\n",
    "\n",
    "    MINEFFICIENCY = MAXCELLV - voltage_drift * 8760 * CAPACITY * replace_rate\n",
    "    \n",
    "    #====Model inputs\n",
    "    balance_specific_cost = 50 # $/kW\n",
    "     ##Reference: 2021 DOE Hydrogen and Fuel Cells Program Review Presentation\n",
    "    balance_system_cost = balance_specific_cost * nameplate_capacity\n",
    "    \n",
    "    hydrogen_stored = nameplate_capacity * hours_stored / (33.4 * MINEFFICIENCY) #10,000 kW * 100 hours / (33.4 * EFFICIENCY kWh/kg)\n",
    "    storage_specific_capital = 72 # $/kg stored https://www.hydrogen.energy.gov/pdfs/review19/st001_ahluwalia_2019_o.pdf\n",
    "    #storage capital can be lower for salt-caverns, for example\n",
    "    storage_capital = storage_specific_capital * hydrogen_stored\n",
    "    \n",
    "    ## Estimated as ~4X LDV BoP cost\n",
    "    ## See report: \"Mass Production Cost Estimation of Direct H2 PEM Fuel...\n",
    "    ## ... Cell Systems for Transportation Applications: 2018 Update\"\n",
    "    \n",
    "    system_cost = fc_stack_cost*nameplate_capacity + storage_capital + balance_system_cost\n",
    "    #====\n",
    "    \n",
    "    \n",
    "    if SHOWCOSTS:\n",
    "        print()\n",
    "        print(\"Total system cost is ${0:.2f} million\".format(system_cost/1e6))\n",
    "        print(\"Stack:  ${0:.2f} million\".format(fc_stack_cost*nameplate_capacity/1e6))\n",
    "        print(\"Storage: ${0:.2f} million\".format(storage_capital/1e6))\n",
    "        print(\"Mechanical: ${0:.2f} million\".format(balance_system_cost/1e6))\n",
    "\n",
    "    return system_cost"
   ]
  },
  {
   "cell_type": "markdown",
   "id": "0297328b",
   "metadata": {},
   "source": [
    "### Calculate LCOH"
   ]
  },
  {
   "cell_type": "code",
   "execution_count": 6,
   "id": "4d7bf7ad",
   "metadata": {},
   "outputs": [],
   "source": [
    "def NPV_calc(HYDROGEN, ELECTRIC, stack_cost, MAXCELLV, SHOWTABLE = False):\n",
    "    \n",
    "   #Scheduled cash flow\n",
    "    CashFlow = pd.DataFrame({'Years':[],'Stack Life':[],'Inflation Year':[],\n",
    "                            'Stack Eff':[], 'Hydrogen Sales':[],'Replacement Costs':[],'Operating Costs':[],\n",
    "                            'Net Cash Flow':[],'Discounted Flow':[]})\n",
    "\n",
    "    system_cost=system_model(stack_cost, MAXCELLV)\n",
    "    \n",
    "    ## Initialize variables\n",
    "    year = [1]\n",
    "    stacklife = [0]\n",
    "    inflationyear = [1]\n",
    "    stackeff = [0]\n",
    "    hydrogensales = [0]\n",
    "    replacement_costs = [0]\n",
    "    operating_costs = [0]\n",
    "    net_cash = [-system_cost]\n",
    "    discounted_cash = [net_cash[-1]/(1+IRR)**year[-1]]\n",
    "\n",
    "    for x in range(2,max_year+2):\n",
    "        year.append(x)\n",
    "        inflationyear.append((1+INFLATION)**x)\n",
    "\n",
    "        #Hydrogen sales\n",
    "        hydrogensales.append(ELECTRIC*nameplate_capacity*8760*CAPACITY) # [$/kg] * [kg/h] * [h/year] * percent\n",
    "        hydrogensales[-1] = hydrogensales[-1]*inflationyear[-1]\n",
    "\n",
    "        #Stacklife counting\n",
    "        if stacklife[-1] < replace_rate and year[-1] != max_year: # Don't replace stack in the last year of life\n",
    "            stacklife.append(stacklife[-1]+1)\n",
    "        else:\n",
    "            stacklife.append(1)\n",
    "\n",
    "        #Maintenance cost are 0.5% system cost per year + stack replacement\n",
    "        replacement_costs.append(stack_replacement*stack_cost*(stacklife[-1]==replace_rate) + 0.005*system_cost)\n",
    "        replacement_costs[-1] = replacement_costs[-1]*inflationyear[-1]\n",
    "\n",
    "        #Stack efficiency is the average of the beginning and end of year efficiency\n",
    "        stackeff.append(V_to_eff*(MAXCELLV - voltage_drift*8760*CAPACITY*(stacklife[-1]+stacklife[-1]-1) / 2) )\n",
    "\n",
    "        #Operating costs are assumed to be dominated by electricity prices\n",
    "        operating_costs.append(HYDROGEN*nameplate_capacity*8760*CAPACITY/stackeff[-1]) # [$/kWh] * [kWh/kg] * [kg/h] * [h/year] * percent\n",
    "        operating_costs[-1] = operating_costs[-1]*inflationyear[-1]\n",
    "\n",
    "        #Net cash flow = Sales - replacement - operating costs\n",
    "        net_cash.append(hydrogensales[-1] - operating_costs[-1] - replacement_costs[-1])\n",
    "\n",
    "        #Discounted cash flow = net cash flow / (1+IRR)^year\n",
    "        discounted_cash.append(net_cash[-1]/(1+IRR)**year[-1])\n",
    "\n",
    "    CashFlow['Years'] = year\n",
    "    CashFlow['Stack Life'] = stacklife\n",
    "    CashFlow['Inflation Year'] = inflationyear\n",
    "    CashFlow['Stack Eff'] = stackeff\n",
    "    CashFlow['Hydrogen Sales'] = hydrogensales\n",
    "    CashFlow['Replacement Costs'] = replacement_costs\n",
    "    CashFlow['Operating Costs'] = operating_costs\n",
    "    CashFlow['Net Cash Flow'] = net_cash\n",
    "    CashFlow['Discounted Flow'] = discounted_cash\n",
    "    \n",
    "    if SHOWTABLE:\n",
    "        return CashFlow\n",
    "    else:\n",
    "        return sum(CashFlow['Discounted Flow'])\n"
   ]
  },
  {
   "cell_type": "code",
   "execution_count": 7,
   "id": "019766a7",
   "metadata": {},
   "outputs": [],
   "source": [
    "cost_of_hydrogen=3\n",
    "def LCOE(max_cell_v, stack_cost):\n",
    "  \n",
    "    low_price = 0.01\n",
    "    high_price = 0.25\n",
    "    low_val = NPV_calc(HYDROGEN=cost_of_hydrogen,ELECTRIC=low_price,stack_cost=stack_cost, MAXCELLV=max_cell_v)\n",
    "    high_val = NPV_calc(HYDROGEN=cost_of_hydrogen, ELECTRIC=high_price,stack_cost=stack_cost, MAXCELLV=max_cell_v)\n",
    "    \n",
    "    slope = (high_price - low_price)/(high_val - low_val)\n",
    "    \n",
    "    return high_price - high_val*slope"
   ]
  },
  {
   "cell_type": "markdown",
   "id": "ad8570de",
   "metadata": {},
   "source": [
    "### Iterate across LCOH vs model assumptions\n",
    "\n",
    "Iteratively set up model + build NPV function before running LCOH function to calculate LCOH"
   ]
  },
  {
   "cell_type": "code",
   "execution_count": 8,
   "id": "c8465cf2",
   "metadata": {},
   "outputs": [],
   "source": [
    "## Set up a mesh grid for desired variables\n",
    "Es = np.linspace(0.4,1,25)\n",
    "Stacks = np.logspace(1,3,25)\n",
    "XX,YY = np.meshgrid(Es,Stacks) # syntax is columns, rows\n",
    "rs, cs = np.shape(XX)\n",
    "Z = np.zeros((rs,cs))\n",
    "\n",
    "for row in range(0,len(Stacks)):\n",
    "    for col in range(0,len(Es)):\n",
    "            E = XX[row,col]\n",
    "            stack = YY[row,col]\n",
    "            Z[row,col] = LCOE(max_cell_v = E, stack_cost = stack)"
   ]
  },
  {
   "cell_type": "code",
   "execution_count": 9,
   "id": "79f1b540",
   "metadata": {},
   "outputs": [
    {
     "data": {
      "image/png": "[encoded data removed]",
      "text/plain": [
       "<Figure size 375x375 with 1 Axes>"
      ]
     },
     "metadata": {
      "needs_background": "light"
     },
     "output_type": "display_data"
    }
   ],
   "source": [
    "fig, ax = plt.subplots(figsize=(2.5,2.5))\n",
    "CS = ax.contour(XX, YY, Z, [0.16, 0.20, 0.24, 0.27, 0.31, 0.35], cmap='plasma', vmin=0.10, vmax=0.35)\n",
    "ax.set_xlabel('Stack Voltage [V]')\n",
    "ax.set_ylabel('Stack Cost [\\$/kW]')\n",
    "ax.set_yscale('log')\n",
    "ax.plot(0.75,200,'*',color='orange')\n",
    "ax.text(0.75,50,'Base case',color='orange', rotation=80)\n",
    "ax.set_xlim([0.42,1])\n",
    "ax.clabel(CS, inline=True, fontsize=9, colors='k', fmt='$ %1.2f')\n",
    "plt.gcf().set_dpi(150)"
   ]
  }
 ],
 "metadata": {
  "kernelspec": {
   "display_name": "Python 3",
   "language": "python",
   "name": "python3"
  },
  "language_info": {
   "codemirror_mode": {
    "name": "ipython",
    "version": 3
   },
   "file_extension": ".py",
   "mimetype": "text/x-python",
   "name": "python",
   "nbconvert_exporter": "python",
   "pygments_lexer": "ipython3",
   "version": "3.8.2"
  }
 },
 "nbformat": 4,
 "nbformat_minor": 5
}
